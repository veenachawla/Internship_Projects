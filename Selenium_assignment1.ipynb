{
 "cells": [
  {
   "cell_type": "markdown",
   "metadata": {},
   "source": [
    "# WebScraping using Selenium - Assignment 1"
   ]
  },
  {
   "cell_type": "code",
   "execution_count": 1,
   "metadata": {},
   "outputs": [],
   "source": [
    "# ! pip install selenium"
   ]
  },
  {
   "cell_type": "code",
   "execution_count": 2,
   "metadata": {},
   "outputs": [],
   "source": [
    "import selenium\n",
    "import pandas as pd\n",
    "from selenium import webdriver"
   ]
  },
  {
   "cell_type": "markdown",
   "metadata": {},
   "source": [
    "### Q1: Write a python program to scrape data for “Data Analyst” Job position in “Bangalore” location. You have to scrape the job-title, job-location, company_name, experience_required. You have to scrape first 10 jobs data."
   ]
  },
  {
   "cell_type": "code",
   "execution_count": 3,
   "metadata": {},
   "outputs": [],
   "source": [
    "# Driver needs to be connected for scrapping, lets connect the driver first\n",
    "driver = webdriver.Chrome(r\"C:\\Data Trained\\chromedriver.exe\")"
   ]
  },
  {
   "cell_type": "code",
   "execution_count": 4,
   "metadata": {},
   "outputs": [],
   "source": [
    "driver.get('https://www.naukri.com/')"
   ]
  },
  {
   "cell_type": "code",
   "execution_count": 5,
   "metadata": {},
   "outputs": [],
   "source": [
    "search_job = driver.find_element_by_id(\"qsb-keyword-sugg\")\n",
    "search_job.send_keys(\"Data Analyst\")\n",
    "search_location = driver.find_element_by_id(\"qsb-location-sugg\")\n",
    "search_location.send_keys(\"Banglore\")\n"
   ]
  },
  {
   "cell_type": "code",
   "execution_count": 6,
   "metadata": {},
   "outputs": [],
   "source": [
    "search_button=driver.find_element_by_xpath(\"//div[@class='search-btn']/button\")\n",
    "search_button.click()"
   ]
  },
  {
   "cell_type": "code",
   "execution_count": 7,
   "metadata": {},
   "outputs": [],
   "source": [
    "## Fetching the url from which the data needs to be scrapped\n",
    "url=\"https://www.naukri.com/data-analyst-jobs-in-banglore?k=data%20analyst&l=banglore\"\n",
    "driver.get(url) ## opening the saved url "
   ]
  },
  {
   "cell_type": "code",
   "execution_count": 8,
   "metadata": {},
   "outputs": [],
   "source": [
    "## We need to scrap job-title, job-location,company-name & experience-required, will create an empty list for these first.\n",
    "\n",
    "job_title = []\n",
    "job_loc = []\n",
    "comp_name = []\n",
    "exp_reqd = []"
   ]
  },
  {
   "cell_type": "code",
   "execution_count": 9,
   "metadata": {},
   "outputs": [
    {
     "data": {
      "text/plain": [
       "[<selenium.webdriver.remote.webelement.WebElement (session=\"68665f790e91084f6922fa0bef21d40d\", element=\"0dfcf24d-2933-4bc3-ab60-a7ebc1b1d734\")>,\n",
       " <selenium.webdriver.remote.webelement.WebElement (session=\"68665f790e91084f6922fa0bef21d40d\", element=\"7fcfe827-ece8-4d90-8557-eb6b6e044b21\")>,\n",
       " <selenium.webdriver.remote.webelement.WebElement (session=\"68665f790e91084f6922fa0bef21d40d\", element=\"a202d7ed-7c5d-4e77-9f8e-c5ccd6a2669b\")>,\n",
       " <selenium.webdriver.remote.webelement.WebElement (session=\"68665f790e91084f6922fa0bef21d40d\", element=\"87df5a0d-d06f-46bf-997d-994294d6cc7a\")>,\n",
       " <selenium.webdriver.remote.webelement.WebElement (session=\"68665f790e91084f6922fa0bef21d40d\", element=\"a76ed105-873e-4c84-8354-b30eee91405e\")>]"
      ]
     },
     "execution_count": 9,
     "metadata": {},
     "output_type": "execute_result"
    }
   ],
   "source": [
    "## Extracted the tag for job_title and saved it under title_tags\n",
    "title_tags = driver.find_elements_by_xpath(\"//a[@class= 'title fw500 ellipsis']\")\n",
    "title_tags[0:5]"
   ]
  },
  {
   "cell_type": "code",
   "execution_count": 10,
   "metadata": {},
   "outputs": [
    {
     "data": {
      "text/plain": [
       "['Data Engineer/Data Analyst- Chennai',\n",
       " 'Azure Data Analyst',\n",
       " 'Data Analyst',\n",
       " 'Executive - Data Analyst',\n",
       " 'Data Analyst',\n",
       " 'Data Analyst - Alteryx, Tableau and SQL',\n",
       " 'Data Analyst',\n",
       " 'Data Analyst',\n",
       " 'Data Analyst',\n",
       " 'Data Analyst',\n",
       " 'Data Analyst']"
      ]
     },
     "execution_count": 10,
     "metadata": {},
     "output_type": "execute_result"
    }
   ],
   "source": [
    "## We need the text from these tags, hence will use loop command to get the text and save under job_title\n",
    "\n",
    "for i in title_tags:\n",
    "    title=i.text\n",
    "    job_title.append(title)\n",
    "job_title[0:11]"
   ]
  },
  {
   "cell_type": "markdown",
   "metadata": {},
   "source": [
    "Here we now have top 10 job titles, lets proceed to scrape the remaining 3 attributes of the data."
   ]
  },
  {
   "cell_type": "code",
   "execution_count": 11,
   "metadata": {},
   "outputs": [
    {
     "data": {
      "text/plain": [
       "[<selenium.webdriver.remote.webelement.WebElement (session=\"68665f790e91084f6922fa0bef21d40d\", element=\"fdab1b40-9431-4530-9641-5498cb706e90\")>,\n",
       " <selenium.webdriver.remote.webelement.WebElement (session=\"68665f790e91084f6922fa0bef21d40d\", element=\"75f3598e-53f0-4994-a94c-de979bb148cb\")>,\n",
       " <selenium.webdriver.remote.webelement.WebElement (session=\"68665f790e91084f6922fa0bef21d40d\", element=\"42ff3e8a-b51c-4024-9572-cb73915502d2\")>]"
      ]
     },
     "execution_count": 11,
     "metadata": {},
     "output_type": "execute_result"
    }
   ],
   "source": [
    "loc_tags = driver.find_elements_by_xpath(\"//li[@class = 'fleft grey-text br2 placeHolderLi location']/span[1]\")\n",
    "loc_tags[0:3]"
   ]
  },
  {
   "cell_type": "code",
   "execution_count": 12,
   "metadata": {},
   "outputs": [
    {
     "data": {
      "text/plain": [
       "['Hyderabad/Secunderabad, Pune, Chennai, Bangalore/Bengaluru',\n",
       " 'Bangalore/Bengaluru',\n",
       " 'Bangalore/Bengaluru(Devalapur)',\n",
       " 'Bangalore/Bengaluru',\n",
       " 'Bangalore/Bengaluru',\n",
       " 'Bangalore/Bengaluru',\n",
       " 'Bangalore/Bengaluru',\n",
       " 'Bangalore/Bengaluru',\n",
       " 'Bangalore/Bengaluru',\n",
       " 'Bangalore/Bengaluru',\n",
       " 'Bangalore/Bengaluru']"
      ]
     },
     "execution_count": 12,
     "metadata": {},
     "output_type": "execute_result"
    }
   ],
   "source": [
    "## We got the location tags above, lets fetch the text from it & save it under job_loc\n",
    "\n",
    "for i in loc_tags:\n",
    "    loc=i.text\n",
    "    job_loc.append(loc)\n",
    "    \n",
    "job_loc[0:11]  ## Top 10 list"
   ]
  },
  {
   "cell_type": "markdown",
   "metadata": {},
   "source": [
    "Similarly will scrape the data of using tags for company name and experience required and save the text of these tags under  comp_name = [] & exp_reqd = []"
   ]
  },
  {
   "cell_type": "code",
   "execution_count": 13,
   "metadata": {},
   "outputs": [
    {
     "data": {
      "text/plain": [
       "[<selenium.webdriver.remote.webelement.WebElement (session=\"68665f790e91084f6922fa0bef21d40d\", element=\"3dca01c2-048b-4a11-a782-d3630e2d840c\")>,\n",
       " <selenium.webdriver.remote.webelement.WebElement (session=\"68665f790e91084f6922fa0bef21d40d\", element=\"67c324fb-258b-4dc2-8a18-29545b2a8817\")>,\n",
       " <selenium.webdriver.remote.webelement.WebElement (session=\"68665f790e91084f6922fa0bef21d40d\", element=\"e75853e2-9d2c-4404-ad25-c2ef773e9248\")>]"
      ]
     },
     "execution_count": 13,
     "metadata": {},
     "output_type": "execute_result"
    }
   ],
   "source": [
    "name_tags=driver.find_elements_by_xpath(\"//a[@class = 'subTitle ellipsis fleft']\")\n",
    "exp_tags = driver.find_elements_by_xpath(\"//li[@class = 'fleft grey-text br2 placeHolderLi experience']/span[1]\")\n",
    "name_tags[0:3]\n",
    "exp_tags[0:3]"
   ]
  },
  {
   "cell_type": "code",
   "execution_count": 14,
   "metadata": {},
   "outputs": [
    {
     "data": {
      "text/plain": [
       "['Inflexion Analytix Private Limited',\n",
       " 'Capgemini Technology Services India Limited',\n",
       " 'Super India Tech Mark',\n",
       " 'Flipkart Internet Private Limited',\n",
       " 'CONDUENT BUSINESS SERVICES INDIA LLP',\n",
       " 'Schneider Electric',\n",
       " 'Myntra Designs Pvt. Ltd.',\n",
       " 'Myntra Designs Pvt. Ltd.',\n",
       " 'Myntra Designs Pvt. Ltd.',\n",
       " 'Myntra Designs Pvt. Ltd.',\n",
       " 'Myntra Designs Pvt. Ltd.']"
      ]
     },
     "execution_count": 14,
     "metadata": {},
     "output_type": "execute_result"
    }
   ],
   "source": [
    "for i in name_tags:\n",
    "    name=i.text\n",
    "    comp_name.append(name)\n",
    "comp_name[0:11]"
   ]
  },
  {
   "cell_type": "code",
   "execution_count": 15,
   "metadata": {},
   "outputs": [
    {
     "data": {
      "text/plain": [
       "['Inflexion Analytix Private Limited',\n",
       " 'Capgemini Technology Services India Limited',\n",
       " 'Super India Tech Mark',\n",
       " 'Flipkart Internet Private Limited',\n",
       " 'CONDUENT BUSINESS SERVICES INDIA LLP',\n",
       " 'Schneider Electric',\n",
       " 'Myntra Designs Pvt. Ltd.',\n",
       " 'Myntra Designs Pvt. Ltd.',\n",
       " 'Myntra Designs Pvt. Ltd.',\n",
       " 'Myntra Designs Pvt. Ltd.',\n",
       " 'Myntra Designs Pvt. Ltd.']"
      ]
     },
     "execution_count": 15,
     "metadata": {},
     "output_type": "execute_result"
    }
   ],
   "source": [
    "for i in exp_tags:\n",
    "    exp=i.text\n",
    "    exp_reqd.append(exp)\n",
    "comp_name[0:11]"
   ]
  },
  {
   "cell_type": "code",
   "execution_count": 16,
   "metadata": {},
   "outputs": [
    {
     "name": "stdout",
     "output_type": "stream",
     "text": [
      "20 20 20 20\n"
     ]
    }
   ],
   "source": [
    "print(len(job_title),len(job_loc),len(comp_name),len(exp_reqd))"
   ]
  },
  {
   "cell_type": "markdown",
   "metadata": {},
   "source": [
    "The required data is in list format above.A dataframe needs to be created to save these data's and the question mentioned top 10 records, hence the dataframe will consist only top 10 data records."
   ]
  },
  {
   "cell_type": "code",
   "execution_count": 17,
   "metadata": {},
   "outputs": [],
   "source": [
    "naukri_jobs=pd.DataFrame({})\n",
    "naukri_jobs['title']=job_title[0:11]\n",
    "naukri_jobs['location']=job_loc[0:11]\n",
    "naukri_jobs['comp_name']=comp_name[0:11]\n",
    "naukri_jobs['exp_reqd']=exp_reqd[0:11]"
   ]
  },
  {
   "cell_type": "code",
   "execution_count": 18,
   "metadata": {},
   "outputs": [
    {
     "data": {
      "text/html": [
       "<div>\n",
       "<style scoped>\n",
       "    .dataframe tbody tr th:only-of-type {\n",
       "        vertical-align: middle;\n",
       "    }\n",
       "\n",
       "    .dataframe tbody tr th {\n",
       "        vertical-align: top;\n",
       "    }\n",
       "\n",
       "    .dataframe thead th {\n",
       "        text-align: right;\n",
       "    }\n",
       "</style>\n",
       "<table border=\"1\" class=\"dataframe\">\n",
       "  <thead>\n",
       "    <tr style=\"text-align: right;\">\n",
       "      <th></th>\n",
       "      <th>title</th>\n",
       "      <th>location</th>\n",
       "      <th>comp_name</th>\n",
       "      <th>exp_reqd</th>\n",
       "    </tr>\n",
       "  </thead>\n",
       "  <tbody>\n",
       "    <tr>\n",
       "      <th>0</th>\n",
       "      <td>Data Engineer/Data Analyst- Chennai</td>\n",
       "      <td>Hyderabad/Secunderabad, Pune, Chennai, Bangalo...</td>\n",
       "      <td>Inflexion Analytix Private Limited</td>\n",
       "      <td>0-2 Yrs</td>\n",
       "    </tr>\n",
       "    <tr>\n",
       "      <th>1</th>\n",
       "      <td>Azure Data Analyst</td>\n",
       "      <td>Bangalore/Bengaluru</td>\n",
       "      <td>Capgemini Technology Services India Limited</td>\n",
       "      <td>6-8 Yrs</td>\n",
       "    </tr>\n",
       "    <tr>\n",
       "      <th>2</th>\n",
       "      <td>Data Analyst</td>\n",
       "      <td>Bangalore/Bengaluru(Devalapur)</td>\n",
       "      <td>Super India Tech Mark</td>\n",
       "      <td>0-2 Yrs</td>\n",
       "    </tr>\n",
       "    <tr>\n",
       "      <th>3</th>\n",
       "      <td>Executive - Data Analyst</td>\n",
       "      <td>Bangalore/Bengaluru</td>\n",
       "      <td>Flipkart Internet Private Limited</td>\n",
       "      <td>1-3 Yrs</td>\n",
       "    </tr>\n",
       "    <tr>\n",
       "      <th>4</th>\n",
       "      <td>Data Analyst</td>\n",
       "      <td>Bangalore/Bengaluru</td>\n",
       "      <td>CONDUENT BUSINESS SERVICES INDIA LLP</td>\n",
       "      <td>1-2 Yrs</td>\n",
       "    </tr>\n",
       "    <tr>\n",
       "      <th>5</th>\n",
       "      <td>Data Analyst - Alteryx, Tableau and SQL</td>\n",
       "      <td>Bangalore/Bengaluru</td>\n",
       "      <td>Schneider Electric</td>\n",
       "      <td>2-5 Yrs</td>\n",
       "    </tr>\n",
       "    <tr>\n",
       "      <th>6</th>\n",
       "      <td>Data Analyst</td>\n",
       "      <td>Bangalore/Bengaluru</td>\n",
       "      <td>Myntra Designs Pvt. Ltd.</td>\n",
       "      <td>3-6 Yrs</td>\n",
       "    </tr>\n",
       "    <tr>\n",
       "      <th>7</th>\n",
       "      <td>Data Analyst</td>\n",
       "      <td>Bangalore/Bengaluru</td>\n",
       "      <td>Myntra Designs Pvt. Ltd.</td>\n",
       "      <td>4-8 Yrs</td>\n",
       "    </tr>\n",
       "    <tr>\n",
       "      <th>8</th>\n",
       "      <td>Data Analyst</td>\n",
       "      <td>Bangalore/Bengaluru</td>\n",
       "      <td>Myntra Designs Pvt. Ltd.</td>\n",
       "      <td>3-8 Yrs</td>\n",
       "    </tr>\n",
       "    <tr>\n",
       "      <th>9</th>\n",
       "      <td>Data Analyst</td>\n",
       "      <td>Bangalore/Bengaluru</td>\n",
       "      <td>Myntra Designs Pvt. Ltd.</td>\n",
       "      <td>4-8 Yrs</td>\n",
       "    </tr>\n",
       "    <tr>\n",
       "      <th>10</th>\n",
       "      <td>Data Analyst</td>\n",
       "      <td>Bangalore/Bengaluru</td>\n",
       "      <td>Myntra Designs Pvt. Ltd.</td>\n",
       "      <td>4-8 Yrs</td>\n",
       "    </tr>\n",
       "  </tbody>\n",
       "</table>\n",
       "</div>"
      ],
      "text/plain": [
       "                                      title  \\\n",
       "0       Data Engineer/Data Analyst- Chennai   \n",
       "1                        Azure Data Analyst   \n",
       "2                              Data Analyst   \n",
       "3                  Executive - Data Analyst   \n",
       "4                              Data Analyst   \n",
       "5   Data Analyst - Alteryx, Tableau and SQL   \n",
       "6                              Data Analyst   \n",
       "7                              Data Analyst   \n",
       "8                              Data Analyst   \n",
       "9                              Data Analyst   \n",
       "10                             Data Analyst   \n",
       "\n",
       "                                             location  \\\n",
       "0   Hyderabad/Secunderabad, Pune, Chennai, Bangalo...   \n",
       "1                                 Bangalore/Bengaluru   \n",
       "2                      Bangalore/Bengaluru(Devalapur)   \n",
       "3                                 Bangalore/Bengaluru   \n",
       "4                                 Bangalore/Bengaluru   \n",
       "5                                 Bangalore/Bengaluru   \n",
       "6                                 Bangalore/Bengaluru   \n",
       "7                                 Bangalore/Bengaluru   \n",
       "8                                 Bangalore/Bengaluru   \n",
       "9                                 Bangalore/Bengaluru   \n",
       "10                                Bangalore/Bengaluru   \n",
       "\n",
       "                                      comp_name exp_reqd  \n",
       "0            Inflexion Analytix Private Limited  0-2 Yrs  \n",
       "1   Capgemini Technology Services India Limited  6-8 Yrs  \n",
       "2                         Super India Tech Mark  0-2 Yrs  \n",
       "3             Flipkart Internet Private Limited  1-3 Yrs  \n",
       "4          CONDUENT BUSINESS SERVICES INDIA LLP  1-2 Yrs  \n",
       "5                            Schneider Electric  2-5 Yrs  \n",
       "6                      Myntra Designs Pvt. Ltd.  3-6 Yrs  \n",
       "7                      Myntra Designs Pvt. Ltd.  4-8 Yrs  \n",
       "8                      Myntra Designs Pvt. Ltd.  3-8 Yrs  \n",
       "9                      Myntra Designs Pvt. Ltd.  4-8 Yrs  \n",
       "10                     Myntra Designs Pvt. Ltd.  4-8 Yrs  "
      ]
     },
     "execution_count": 18,
     "metadata": {},
     "output_type": "execute_result"
    }
   ],
   "source": [
    "naukri_jobs"
   ]
  },
  {
   "cell_type": "code",
   "execution_count": 19,
   "metadata": {},
   "outputs": [],
   "source": [
    "driver.close()"
   ]
  },
  {
   "cell_type": "markdown",
   "metadata": {},
   "source": [
    "# Write a python program to scrape data for “Data Scientist” Job position in “Bangalore” location. You have to scrape the job-title, job-location, company_name, full job-description. You have to scrape first 10 jobs data"
   ]
  },
  {
   "cell_type": "markdown",
   "metadata": {},
   "source": [
    "To begin with necesary drivers need to be called and the url is to be automated. Then using find_elements_by_xpath the url with desired job title and location is opened from which the data needs to be scrapped."
   ]
  },
  {
   "cell_type": "code",
   "execution_count": 20,
   "metadata": {},
   "outputs": [],
   "source": [
    "import time"
   ]
  },
  {
   "cell_type": "code",
   "execution_count": 21,
   "metadata": {},
   "outputs": [],
   "source": [
    "driver = webdriver.Chrome(r\"C:\\Data Trained\\chromedriver.exe\")\n",
    "driver.get('https://www.naukri.com/')\n",
    "search_job = driver.find_element_by_id(\"qsb-keyword-sugg\")\n",
    "search_job.send_keys(\"Data Scientist\")\n",
    "search_location = driver.find_element_by_id(\"qsb-location-sugg\")\n",
    "search_location.send_keys(\"Banglore\")\n",
    "search_button=driver.find_element_by_xpath(\"//div[@class='search-btn']/button\")\n",
    "search_button.click()"
   ]
  },
  {
   "cell_type": "code",
   "execution_count": 22,
   "metadata": {},
   "outputs": [],
   "source": [
    "## Fetching the url from which the data needs to be scrapped\n",
    "url=\"https://www.naukri.com/data-scientist-jobs-in-banglore?k=data%20scientist&l=banglore\"\n",
    "driver.get(url) ## opening the saved url"
   ]
  },
  {
   "cell_type": "code",
   "execution_count": 23,
   "metadata": {},
   "outputs": [
    {
     "name": "stdout",
     "output_type": "stream",
     "text": [
      "20 20 20\n"
     ]
    }
   ],
   "source": [
    "title = []  ### empty list created for job_title\n",
    "loc = []  #### e,plty lift created for location \n",
    "name = [] ### empty created list created for company name\n",
    "\n",
    "### used loop for scrape job_title, location & company_name from the first page of the url \n",
    "\n",
    "for k in driver.find_elements_by_xpath(\"//a[@class = 'title fw500 ellipsis']\"): \n",
    "    title.append(k.text)\n",
    "for i in driver.find_elements_by_xpath(\"//li[@class = 'fleft grey-text br2 placeHolderLi location']/span\"):\n",
    "    loc.append(i.text)\n",
    "for p in driver.find_elements_by_xpath(\"//a[@class = 'subTitle ellipsis fleft']\"):\n",
    "    name.append(p.text)\n",
    "    \n",
    "print(len(title),len(loc),len(name))"
   ]
  },
  {
   "cell_type": "code",
   "execution_count": 24,
   "metadata": {},
   "outputs": [
    {
     "name": "stdout",
     "output_type": "stream",
     "text": [
      "16\n"
     ]
    }
   ],
   "source": [
    "jd_url = []  ## to save all the url \n",
    "jd_full = [] ## As we need full job description created an empty list for same\n",
    "\n",
    "for j in driver.find_elements_by_xpath(\"//a[@class= 'title fw500 ellipsis']\"): \n",
    "    jd_url.append(j.get_attribute('href')) ### get the attribute from job-title to get inside a particular job detail\n",
    "for u in jd_url:  #### looping to fetch the url's\n",
    "    driver.get(u)  #### get the url to scrape job description\n",
    "    for d in driver.find_elements_by_xpath(\"//div[@class = 'dang-inner-html']\"): ## element for scrapping full job description\n",
    "        jd_full.append(d.text) ## save the text of job descripton from the the tag\n",
    "    time.sleep(3)\n",
    "print(len(jd_full))"
   ]
  },
  {
   "cell_type": "code",
   "execution_count": 25,
   "metadata": {},
   "outputs": [],
   "source": [
    "job_ds=pd.DataFrame({}) ## Creates an empty dataframe for saving the data scrapped\n",
    "job_ds['job_title']=title[0:11] ## job_title feature, top - 10 data saved\n",
    "job_ds['location']=loc[0:11] ### location feature\n",
    "job_ds['comp_name']=name[0:11] ### company name feature\n",
    "job_ds['description']=jd_full[0:11] ### job description feature"
   ]
  },
  {
   "cell_type": "code",
   "execution_count": 26,
   "metadata": {},
   "outputs": [
    {
     "data": {
      "text/html": [
       "<div>\n",
       "<style scoped>\n",
       "    .dataframe tbody tr th:only-of-type {\n",
       "        vertical-align: middle;\n",
       "    }\n",
       "\n",
       "    .dataframe tbody tr th {\n",
       "        vertical-align: top;\n",
       "    }\n",
       "\n",
       "    .dataframe thead th {\n",
       "        text-align: right;\n",
       "    }\n",
       "</style>\n",
       "<table border=\"1\" class=\"dataframe\">\n",
       "  <thead>\n",
       "    <tr style=\"text-align: right;\">\n",
       "      <th></th>\n",
       "      <th>job_title</th>\n",
       "      <th>location</th>\n",
       "      <th>comp_name</th>\n",
       "      <th>description</th>\n",
       "    </tr>\n",
       "  </thead>\n",
       "  <tbody>\n",
       "    <tr>\n",
       "      <th>0</th>\n",
       "      <td>Data Scientist</td>\n",
       "      <td>Bangalore/Bengaluru</td>\n",
       "      <td>CronJ IT Technologies Private Limited</td>\n",
       "      <td>Responsibilities and Duties\\nCreate innovative...</td>\n",
       "    </tr>\n",
       "    <tr>\n",
       "      <th>1</th>\n",
       "      <td>Data Scientist - Machine Learning</td>\n",
       "      <td>Bangalore/Bengaluru</td>\n",
       "      <td>AugmatrixGo</td>\n",
       "      <td>Roles and Responsibilities\\n\\n\\n- Selecting fe...</td>\n",
       "    </tr>\n",
       "    <tr>\n",
       "      <th>2</th>\n",
       "      <td>Data Scientist - IBM Garage</td>\n",
       "      <td>Noida, Hyderabad/Secunderabad, Bangalore/Benga...</td>\n",
       "      <td>IBM India Pvt. Limited</td>\n",
       "      <td>Practice Area Profile\\nBCG GAMMA combines in...</td>\n",
       "    </tr>\n",
       "    <tr>\n",
       "      <th>3</th>\n",
       "      <td>GAMMA Lead Data Scientist</td>\n",
       "      <td>Mumbai, New Delhi, Chennai, Bangalore/Bengaluru</td>\n",
       "      <td>Boston Consulting Group</td>\n",
       "      <td>What Youll Do\\n\\nWe re looking for a passi...</td>\n",
       "    </tr>\n",
       "    <tr>\n",
       "      <th>4</th>\n",
       "      <td>DBCG IND - GAMMA Senior Data Scientist</td>\n",
       "      <td>Mumbai, New Delhi, Chennai, Bangalore/Bengaluru</td>\n",
       "      <td>Boston Consulting Group</td>\n",
       "      <td>About Ganit Inc\\n\\nFounded by senior industry ...</td>\n",
       "    </tr>\n",
       "    <tr>\n",
       "      <th>5</th>\n",
       "      <td>Data Scientist/Senior Data Scientist</td>\n",
       "      <td>Hyderabad/Secunderabad, Pune, Chennai, Bangalo...</td>\n",
       "      <td>GANIT BUSINESS SOLUTIONS PRIVATE LIMITED</td>\n",
       "      <td>Roles and Responsibilities\\n\\nMust have strong...</td>\n",
       "    </tr>\n",
       "    <tr>\n",
       "      <th>6</th>\n",
       "      <td>Senior Data Scientist | CES IT LTD | CMMI Level 5</td>\n",
       "      <td>Kolkata, Mumbai, Hyderabad/Secunderabad, Pune,...</td>\n",
       "      <td>CES Ltd.</td>\n",
       "      <td>Responsibilities\\nResearches, develops and m...</td>\n",
       "    </tr>\n",
       "    <tr>\n",
       "      <th>7</th>\n",
       "      <td>Data Scientist</td>\n",
       "      <td>Bangalore/Bengaluru</td>\n",
       "      <td>Schneider Electric India Pvt. Ltd.</td>\n",
       "      <td>The Role\\nGeneral Position Definition\\nThis ro...</td>\n",
       "    </tr>\n",
       "    <tr>\n",
       "      <th>8</th>\n",
       "      <td>Associate Data Scientist - CRM &amp; Loyalty</td>\n",
       "      <td>Bangalore/Bengaluru</td>\n",
       "      <td>Shell India Markets Private Limited</td>\n",
       "      <td>Support business in their decision making ne...</td>\n",
       "    </tr>\n",
       "    <tr>\n",
       "      <th>9</th>\n",
       "      <td>Data Scientist - Business Analytics</td>\n",
       "      <td>Bangalore/Bengaluru</td>\n",
       "      <td>Philips India Limited</td>\n",
       "      <td>Free Training program for Data science and Mac...</td>\n",
       "    </tr>\n",
       "    <tr>\n",
       "      <th>10</th>\n",
       "      <td>Data Scientist</td>\n",
       "      <td>Bangalore/Bengaluru</td>\n",
       "      <td>IBM India Pvt. Limited</td>\n",
       "      <td>Qualification B.Tech/B.E. (Computers)\\n  Roles...</td>\n",
       "    </tr>\n",
       "  </tbody>\n",
       "</table>\n",
       "</div>"
      ],
      "text/plain": [
       "                                            job_title  \\\n",
       "0                                      Data Scientist   \n",
       "1                   Data Scientist - Machine Learning   \n",
       "2                         Data Scientist - IBM Garage   \n",
       "3                           GAMMA Lead Data Scientist   \n",
       "4              DBCG IND - GAMMA Senior Data Scientist   \n",
       "5                Data Scientist/Senior Data Scientist   \n",
       "6   Senior Data Scientist | CES IT LTD | CMMI Level 5   \n",
       "7                                      Data Scientist   \n",
       "8            Associate Data Scientist - CRM & Loyalty   \n",
       "9                 Data Scientist - Business Analytics   \n",
       "10                                     Data Scientist   \n",
       "\n",
       "                                             location  \\\n",
       "0                                 Bangalore/Bengaluru   \n",
       "1                                 Bangalore/Bengaluru   \n",
       "2   Noida, Hyderabad/Secunderabad, Bangalore/Benga...   \n",
       "3     Mumbai, New Delhi, Chennai, Bangalore/Bengaluru   \n",
       "4     Mumbai, New Delhi, Chennai, Bangalore/Bengaluru   \n",
       "5   Hyderabad/Secunderabad, Pune, Chennai, Bangalo...   \n",
       "6   Kolkata, Mumbai, Hyderabad/Secunderabad, Pune,...   \n",
       "7                                 Bangalore/Bengaluru   \n",
       "8                                 Bangalore/Bengaluru   \n",
       "9                                 Bangalore/Bengaluru   \n",
       "10                                Bangalore/Bengaluru   \n",
       "\n",
       "                                   comp_name  \\\n",
       "0      CronJ IT Technologies Private Limited   \n",
       "1                                AugmatrixGo   \n",
       "2                     IBM India Pvt. Limited   \n",
       "3                    Boston Consulting Group   \n",
       "4                    Boston Consulting Group   \n",
       "5   GANIT BUSINESS SOLUTIONS PRIVATE LIMITED   \n",
       "6                                   CES Ltd.   \n",
       "7         Schneider Electric India Pvt. Ltd.   \n",
       "8        Shell India Markets Private Limited   \n",
       "9                      Philips India Limited   \n",
       "10                    IBM India Pvt. Limited   \n",
       "\n",
       "                                          description  \n",
       "0   Responsibilities and Duties\\nCreate innovative...  \n",
       "1   Roles and Responsibilities\\n\\n\\n- Selecting fe...  \n",
       "2     Practice Area Profile\\nBCG GAMMA combines in...  \n",
       "3       What Youll Do\\n\\nWe re looking for a passi...  \n",
       "4   About Ganit Inc\\n\\nFounded by senior industry ...  \n",
       "5   Roles and Responsibilities\\n\\nMust have strong...  \n",
       "6     Responsibilities\\nResearches, develops and m...  \n",
       "7   The Role\\nGeneral Position Definition\\nThis ro...  \n",
       "8     Support business in their decision making ne...  \n",
       "9   Free Training program for Data science and Mac...  \n",
       "10  Qualification B.Tech/B.E. (Computers)\\n  Roles...  "
      ]
     },
     "execution_count": 26,
     "metadata": {},
     "output_type": "execute_result"
    }
   ],
   "source": [
    "job_ds"
   ]
  },
  {
   "cell_type": "code",
   "execution_count": 27,
   "metadata": {},
   "outputs": [],
   "source": [
    "driver.close()"
   ]
  },
  {
   "cell_type": "markdown",
   "metadata": {},
   "source": [
    "# Q3: In this question you have to scrape data using the filters available on naukri.com\n",
    "\n",
    "### You have to use the location and salary filter.\n",
    "### You have to scrape data for “Data Scientist” designation for first 10 job results.\n",
    "### The location filter to be used is “Delhi/NCR”\n",
    "### The salary filter to be used is “3-6” lakhs\n",
    "### You have to scrape the job-title, job-location, company_name, experience_required."
   ]
  },
  {
   "cell_type": "code",
   "execution_count": null,
   "metadata": {},
   "outputs": [],
   "source": [
    "driver = webdriver.Chrome(r\"C:\\Data Trained\\chromedriver.exe\")\n",
    "driver.get('https://www.naukri.com/')\n",
    "search_job = driver.find_element_by_id(\"qsb-keyword-sugg\")\n",
    "search_job.send_keys(\"Data Scientist\")\n",
    "search_button=driver.find_element_by_xpath(\"//div[@class='search-btn']/button\")\n",
    "search_button.click()"
   ]
  },
  {
   "cell_type": "code",
   "execution_count": null,
   "metadata": {},
   "outputs": [],
   "source": []
  }
 ],
 "metadata": {
  "kernelspec": {
   "display_name": "Python 3",
   "language": "python",
   "name": "python3"
  },
  "language_info": {
   "codemirror_mode": {
    "name": "ipython",
    "version": 3
   },
   "file_extension": ".py",
   "mimetype": "text/x-python",
   "name": "python",
   "nbconvert_exporter": "python",
   "pygments_lexer": "ipython3",
   "version": "3.8.3"
  }
 },
 "nbformat": 4,
 "nbformat_minor": 4
}
